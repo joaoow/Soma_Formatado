{
  "nbformat": 4,
  "nbformat_minor": 0,
  "metadata": {
    "colab": {
      "provenance": []
    },
    "kernelspec": {
      "name": "python3",
      "display_name": "Python 3"
    },
    "language_info": {
      "name": "python"
    }
  },
  "cells": [
    {
      "cell_type": "code",
      "execution_count": 18,
      "metadata": {
        "colab": {
          "base_uri": "https://localhost:8080/"
        },
        "id": "tB8y5d4GRoxV",
        "outputId": "b3c75e54-d8a3-4f10-a3fd-f9127eb42dfe"
      },
      "outputs": [
        {
          "output_type": "stream",
          "name": "stdout",
          "text": [
            "Digite um valor: 3\n",
            "Digite outro valor: 4\n",
            "A soma entre 3 e 4 é igual a 7\n"
          ]
        }
      ],
      "source": [
        "num1= eval(input('Digite um valor: '))\n",
        "num2= eval(input('Digite outro valor: '))\n",
        "soma = num1+num2\n",
        "print('A soma entre {} e {} é igual a {}'.format(num1, num2, soma))\n",
        "\n",
        "\n"
      ]
    }
  ]
}